# AES-2048
!pip install pycryptodome

from Crypto.Cipher import AES
from Crypto.Hash import SHA256
from Crypto.Protocol.KDF import PBKDF2
from Crypto.Random import get_random_bytes
import base64
import json


# AES-2048 Encryption
def aes_2048_encrypt(plaintext, password, salt=None, iterations=600000):
    # Step 1: Derive a 2048-bit key
    salt = salt or get_random_bytes(16)
    key_2048 = PBKDF2(password, salt, dkLen=256, count=iterations)  # 2048 bits = 256 bytes

    # Step 2: Split the key into eight 256-bit keys
    keys = [key_2048[i * 32:(i + 1) * 32] for i in range(8)]

    # Step 3: Compute hash of plaintext for integrity
    hash_obj = SHA256.new(plaintext)
    plaintext_hash = hash_obj.digest()

    # Step 4: Concatenate hash with plaintext
    plaintext_with_hash = plaintext_hash + plaintext

    # Step 5: Initialize AES cipher for each key
    ivs = [get_random_bytes(16) for _ in range(8)]  # Unique IV for each AES layer
    ciphertext = plaintext_with_hash
    for i in range(8):
        cipher = AES.new(keys[i], AES.MODE_CBC, ivs[i])
        padding = 16 - len(ciphertext) % 16
        ciphertext += bytes([padding]) * padding
        ciphertext = cipher.encrypt(ciphertext)

    # Step 6: Return ciphertext, all IVs, and salt
    return ivs, ciphertext, salt


# AES-2048 Decryption
def aes_2048_decrypt(ciphertext, password, ivs, salt, iterations=600000):
    # Step 1: Derive a 2048-bit key
    key_2048 = PBKDF2(password, salt, dkLen=256, count=iterations)

    # Step 2: Split the key into eight 256-bit keys
    keys = [key_2048[i * 32:(i + 1) * 32] for i in range(8)]

    # Step 3: Reverse AES decryption for each key
    plaintext_with_hash = ciphertext
    for i in reversed(range(8)):
        cipher = AES.new(keys[i], AES.MODE_CBC, ivs[i])
        plaintext_with_hash = cipher.decrypt(plaintext_with_hash)
        padding = plaintext_with_hash[-1]
        plaintext_with_hash = plaintext_with_hash[:-padding]

    # Step 4: Separate hash and plaintext
    plaintext_hash = plaintext_with_hash[:32]
    plaintext = plaintext_with_hash[32:]

    # Step 5: Verify hash
    hash_obj = SHA256.new(plaintext)
    if plaintext_hash != hash_obj.digest():
        raise ValueError("Integrity check failed: data has been tampered with or corrupted.")

    return plaintext


# Unified Program with User Interface
def main():
    print("=== AES-2048 Encryption/Decryption ===")
    while True:
        print("\nOptions:")
        print("1. Encrypt Data")
        print("2. Decrypt Data")
        print("3. Exit")

        choice = input("Select an option (1/2/3): ")

        if choice == "1":
            # Encryption
            plaintext = input("Enter the plaintext to encrypt: ").encode()
            password = input("Enter a password: ")

            # Perform encryption
            ivs, ciphertext, salt = aes_2048_encrypt(plaintext, password)

            # Encode everything as JSON
            encryption_output = {
                "ciphertext": base64.b64encode(ciphertext).decode(),
                "ivs": [base64.b64encode(iv).decode() for iv in ivs],
                "salt": base64.b64encode(salt).decode(),
            }

            # Obfuscate the JSON by encoding it as a Base64 string
            obfuscated_output = base64.b64encode(json.dumps(encryption_output).encode()).decode()

            # Output the obfuscated string
            print("\033[92m\n=== Encrypted Data (Copy-Paste Below Line) ===")
            print(obfuscated_output)
            print("\033[0m")  # Reset color
            print("Save this string for decryption.")

        elif choice == "2":
            # Decryption
            print("Paste the string from encryption output:")
            obfuscated_input = input().strip()

            try:
                # Decode the obfuscated input back into JSON
                decoded_json = json.loads(base64.b64decode(obfuscated_input).decode())

                # Decode Base64 values from the JSON
                ciphertext = base64.b64decode(decoded_json["ciphertext"])
                ivs = [base64.b64decode(iv) for iv in decoded_json["ivs"]]
                salt = base64.b64decode(decoded_json["salt"])
                password = input("Enter the password: ")

                # Perform decryption
                plaintext = aes_2048_decrypt(ciphertext, password, ivs, salt)
                print("\033[92m\n=== Decrypted Data ===")
                print(f"Plaintext: {plaintext.decode()}\033[0m")
            except json.JSONDecodeError:
                print("Decryption failed: Invalid JSON format in obfuscated string.")
            except ValueError as e:
                print(f"Decryption failed: {e}")
            except Exception as e:
                print(f"Decryption failed: {str(e)}")

        elif choice == "3":
            print("Exiting. Goodbye!")
            break

        else:
            print("Invalid option. Please select 1, 2, or 3.")


if __name__ == "__main__":
    main()
