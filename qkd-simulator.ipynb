# qkd-simulator
# Install necessary packages
!pip install qiskit qiskit-aer

# Importing required libraries
import random
import hashlib
from qiskit import QuantumCircuit
from qiskit_aer import AerSimulator
import ipywidgets as widgets
from IPython.display import display, clear_output

class QKDSimulator:
    def __init__(self):
        self.qubit_length = 2048
        self.simulator = AerSimulator(method='automatic')
        self.setup_gui()

    def setup_gui(self):
        self.message_entry = widgets.Text(
            value='',
            placeholder='Enter your message here',
            description='Message:',
            style={'description_width': 'initial'},
            layout=widgets.Layout(width='70%')
        )
        self.encrypt_button = widgets.Button(description="Encrypt Message", button_style='success')
        self.encrypt_button.on_click(self.encrypt_message)

        self.encrypted_label = widgets.HTML(value="<b>Encrypted Message:</b> ")
        self.decrypted_label = widgets.HTML(value="<b>Decrypted Message:</b> ")

        display(self.message_entry, self.encrypt_button, self.encrypted_label, self.decrypted_label)

    def encrypt_message(self, b):
        message = self.message_entry.value

        key = self.generate_random_key()
        circuit = self.prepare_qubits(key)

        alice_bases = [random.choice(['X', 'Z']) for _ in range(self.qubit_length)]
        bob_bases = [random.choice(['X', 'Z']) for _ in range(self.qubit_length)]

        alice_key = self.measure_qubits(circuit)

        sifted_indices = self.compare_bases(alice_bases, bob_bases)
        sifted_key = self.sift_key(alice_key, sifted_indices)

        error_corrected_key = self.error_correction(sifted_key)
        privacy_amplified_key = self.privacy_amplification(error_corrected_key)

        message_bits = self.classical_communication(message)
        encrypted_message = self.encrypt_message_bits(message_bits, privacy_amplified_key)
        encrypted_message_ascii = self.binary_to_ascii(encrypted_message)
        decrypted_message = self.decrypt_message(encrypted_message, privacy_amplified_key)
        decrypted_message_ascii = self.binary_to_ascii(decrypted_message)

        self.encrypted_label.value = f"<b>Encrypted Message:</b> {encrypted_message_ascii}"
        self.decrypted_label.value = f"<b>Decrypted Message:</b> {decrypted_message_ascii}"

    def measure_qubits(self, circuit):
        circuit.measure_all()
        result = self.simulator.run(circuit, shots=1).result()  # Removed transpilation
        counts = result.get_counts()
        return list(counts.keys())[0]

    def generate_random_key(self):
        return [random.choice([0, 1]) for _ in range(self.qubit_length)]

    def prepare_qubits(self, key):
        circuit = QuantumCircuit(self.qubit_length, self.qubit_length)
        for i, bit in enumerate(key):
            if bit == 1:
                circuit.x(i)

        circuit.h(range(self.qubit_length))
        circuit.barrier()

        circuit.x(1)
        circuit.y(2)
        circuit.z(3)
        circuit.barrier()
        return circuit

    def compare_bases(self, alice_bases, bob_bases):
        return [i for i in range(len(alice_bases)) if alice_bases[i] == bob_bases[i]]

    def sift_key(self, key, indices):
        return [int(key[i]) for i in indices]

    def classical_communication(self, message):
        message_bits = ''.join([bin(ord(c))[2:].zfill(8) for c in message])
        return [int(bit) for bit in message_bits]

    def encrypt_message_bits(self, message, key):
        key_length = len(key)
        return [(message[i] + key[i % key_length]) % 2 for i in range(len(message))]

    def decrypt_message(self, ciphertext, key):
        key_length = len(key)
        return [(ciphertext[i] - key[i % key_length]) % 2 for i in range(len(ciphertext))]

    def binary_to_ascii(self, message):
        ascii_chars = [chr(int(''.join(map(str, message[i:i+8])), 2)) for i in range(0, len(message), 8)]
        return ''.join(ascii_chars)

    def error_correction(self, sifted_key):
        # Simplified error correction for demonstration
        return sifted_key

    def privacy_amplification(self, sifted_key):
        sifted_key_str = ''.join(map(str, sifted_key))
        hash_key = hashlib.sha256(sifted_key_str.encode()).digest()
        return [int(bit) for byte in hash_key for bit in bin(byte)[2:].zfill(8)]


# Instantiate the simulator
qkd_simulator = QKDSimulator()
