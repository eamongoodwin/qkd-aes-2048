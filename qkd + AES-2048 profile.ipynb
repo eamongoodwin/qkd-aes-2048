# run in colab
#!pip install qiskit qiskit-aer pycryptodome memory_profiler psutil

import random
import hashlib
import psutil
import time
import qiskit
from memory_profiler import memory_usage
from qiskit import QuantumCircuit
from qiskit_aer import AerSimulator
from Crypto.Cipher import AES
from Crypto.Hash import SHA256
from Crypto.Protocol.KDF import PBKDF2
from Crypto.Random import get_random_bytes
import base64
import json
import cProfile
import pstats
import io

class QKDSimulator:
    def __init__(self):
        self.qubit_length = 1024
        self.simulator = AerSimulator(method='automatic')

    def profile_function(self, func, *args, **kwargs):
        """
        Runs cProfile on a function to measure execution time and function calls.
        """
        pr = cProfile.Profile()
        pr.enable()
        result = func(*args, **kwargs)
        pr.disable()
        s = io.StringIO()
        sortby = 'cumulative'
        ps = pstats.Stats(pr, stream=s).sort_stats(sortby)
        ps.print_stats(10)  # Show top 10 function calls
        print(s.getvalue())
        return result

    def measure_memory(self, func, *args, **kwargs):
        """
        Measures memory usage of a function using memory_profiler.
        """
        mem_usage = memory_usage((func, args, kwargs), interval=0.1)
        return max(mem_usage) - min(mem_usage)

    def aes_2048_encrypt(self, plaintext, password, salt=None, iterations=1600000):
        """
        AES-2048 encryption with SHA256 integrity check.
        """
        salt = salt or get_random_bytes(16)
        key_2048 = PBKDF2(password, salt, dkLen=256, count=iterations)
        keys = [key_2048[i * 32:(i + 1) * 32] for i in range(8)]

        # Integrity check
        hash_obj = SHA256.new(plaintext)
        plaintext_hash = hash_obj.digest()
        plaintext_with_hash = plaintext_hash + plaintext

        ivs = [get_random_bytes(16) for _ in range(8)]
        ciphertext = plaintext_with_hash

        # Encrypt sequentially using 8 subkeys
        for i in range(8):
            cipher = AES.new(keys[i], AES.MODE_CBC, ivs[i])
            padding = 16 - len(ciphertext) % 16
            ciphertext += bytes([padding]) * padding
            ciphertext = cipher.encrypt(ciphertext)

        return ivs, ciphertext, salt

    def aes_2048_decrypt(self, ciphertext, password, ivs, salt, iterations=1600000):
        """
        AES-2048 decryption with SHA256 integrity verification.
        """
        key_2048 = PBKDF2(password, salt, dkLen=256, count=iterations)
        keys = [key_2048[i * 32:(i + 1) * 32] for i in range(8)]

        plaintext_with_hash = ciphertext
        for i in reversed(range(8)):
            cipher = AES.new(keys[i], AES.MODE_CBC, ivs[i])
            plaintext_with_hash = cipher.decrypt(plaintext_with_hash)
            padding = plaintext_with_hash[-1]
            plaintext_with_hash = plaintext_with_hash[:-padding]

        # Verify integrity
        plaintext_hash = plaintext_with_hash[:32]
        plaintext = plaintext_with_hash[32:]
        hash_obj = SHA256.new(plaintext)
        if plaintext_hash != hash_obj.digest():
            raise ValueError("Integrity check failed.")
        return plaintext

    def monitor_system_usage(self):
        """
        Monitors CPU and memory usage in real-time.
        """
        cpu_percent = psutil.cpu_percent(interval=1)
        memory_info = psutil.virtual_memory()
        print(f"CPU Usage: {cpu_percent}%")
        print(f"Memory Usage: {memory_info.percent}%")

# Instantiate the simulator
qkd_simulator = QKDSimulator()

# Example: Encrypt and decrypt a message while profiling in Google Colab
plaintext = b"Hello Quantum Cryptography!"
password = "secure-password"

print("\nProfiling AES-2048 Encryption:")
ivs, ciphertext, salt = qkd_simulator.profile_function(qkd_simulator.aes_2048_encrypt, plaintext, password)

print("\nProfiling AES-2048 Decryption:")
decrypted_text = qkd_simulator.profile_function(qkd_simulator.aes_2048_decrypt, ciphertext, password, ivs, salt)

print("\nMemory Usage During Encryption:")
mem_usage = qkd_simulator.measure_memory(qkd_simulator.aes_2048_encrypt, plaintext, password)
print(f"Memory used: {mem_usage} MB")

print("\nSystem Usage Metrics:")
qkd_simulator.monitor_system_usage()
